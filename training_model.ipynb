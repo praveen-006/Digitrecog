{
 "cells": [
  {
   "cell_type": "code",
   "execution_count": 1,
   "id": "8e5fd732",
   "metadata": {},
   "outputs": [],
   "source": [
    "from tensorflow.keras import layers\n",
    "from tensorflow.keras import models\n",
    "from tensorflow.keras.datasets import mnist\n",
    "from keras.utils import to_categorical\n",
    "(imgtrain,lbltrain),(imgtest,lbltest) = mnist.load_data()"
   ]
  },
  {
   "cell_type": "code",
   "execution_count": 5,
   "id": "20755501",
   "metadata": {},
   "outputs": [
    {
     "name": "stdout",
     "output_type": "stream",
     "text": [
      "Model: \"sequential_2\"\n",
      "_________________________________________________________________\n",
      " Layer (type)                Output Shape              Param #   \n",
      "=================================================================\n",
      " conv2d_4 (Conv2D)           (None, 26, 26, 32)        320       \n",
      "                                                                 \n",
      " max_pooling2d_4 (MaxPooling  (None, 13, 13, 32)       0         \n",
      " 2D)                                                             \n",
      "                                                                 \n",
      " conv2d_5 (Conv2D)           (None, 11, 11, 64)        18496     \n",
      "                                                                 \n",
      " max_pooling2d_5 (MaxPooling  (None, 5, 5, 64)         0         \n",
      " 2D)                                                             \n",
      "                                                                 \n",
      " flatten_2 (Flatten)         (None, 1600)              0         \n",
      "                                                                 \n",
      " dense_4 (Dense)             (None, 64)                102464    \n",
      "                                                                 \n",
      " dense_5 (Dense)             (None, 10)                650       \n",
      "                                                                 \n",
      "=================================================================\n",
      "Total params: 121,930\n",
      "Trainable params: 121,930\n",
      "Non-trainable params: 0\n",
      "_________________________________________________________________\n"
     ]
    }
   ],
   "source": [
    "model = models.Sequential()\n",
    "model.add(layers.Conv2D(32,(3,3),activation=\"relu\",input_shape=(28,28,1)))\n",
    "model.add(layers.MaxPooling2D((2,2)))\n",
    "model.add(layers.Conv2D(64,(3,3),activation='relu'))\n",
    "model.add(layers.MaxPooling2D((2,2)))\n",
    "model.add(layers.Flatten())\n",
    "model.add(layers.Dense(64,activation='relu'))\n",
    "model.add(layers.Dense(10,activation='softmax'))\n",
    "model.summary()"
   ]
  },
  {
   "cell_type": "code",
   "execution_count": 4,
   "id": "b0826d0d",
   "metadata": {},
   "outputs": [
    {
     "name": "stdout",
     "output_type": "stream",
     "text": [
      "Epoch 1/10\n",
      "938/938 [==============================] - 50s 51ms/step - loss: 0.4076 - accuracy: 0.9289\n",
      "Epoch 2/10\n",
      "938/938 [==============================] - 48s 51ms/step - loss: 0.0686 - accuracy: 0.9790\n",
      "Epoch 3/10\n",
      "938/938 [==============================] - 49s 52ms/step - loss: 0.0487 - accuracy: 0.9844\n",
      "Epoch 4/10\n",
      "938/938 [==============================] - 49s 52ms/step - loss: 0.0358 - accuracy: 0.9887\n",
      "Epoch 5/10\n",
      "938/938 [==============================] - 45s 47ms/step - loss: 0.0361 - accuracy: 0.9889\n",
      "Epoch 6/10\n",
      "938/938 [==============================] - 41s 43ms/step - loss: 0.0311 - accuracy: 0.9901\n",
      "Epoch 7/10\n",
      "938/938 [==============================] - 41s 43ms/step - loss: 0.0294 - accuracy: 0.9909\n",
      "Epoch 8/10\n",
      "938/938 [==============================] - 42s 45ms/step - loss: 0.0226 - accuracy: 0.9927\n",
      "Epoch 9/10\n",
      "938/938 [==============================] - 41s 44ms/step - loss: 0.0233 - accuracy: 0.9928\n",
      "Epoch 10/10\n",
      "938/938 [==============================] - 40s 42ms/step - loss: 0.0216 - accuracy: 0.9936\n",
      "313/313 [==============================] - 4s 11ms/step - loss: 0.0591 - accuracy: 0.9872\n",
      "0.9872000217437744\n"
     ]
    }
   ],
   "source": [
    "imgtrain = imgtrain.reshape((60000,28,28,1))\n",
    "imgtrain.astype('float32')/255\n",
    "imgtest = imgtest.reshape((10000,28,28,1))\n",
    "imgtest.astype('float32')/255\n",
    "lbltrain = to_categorical(lbltrain)\n",
    "lbltest = to_categorical(lbltest)\n",
    "model.compile(optimizer='adam',loss='categorical_crossentropy',metrics=['accuracy'])\n",
    "model.fit(imgtrain,lbltrain,epochs=10,batch_size=64)\n",
    "loss,acc = model.evaluate(imgtest,lbltest)\n",
    "print(acc)\n",
    "model.save('mnist.h5')"
   ]
  },
  {
   "cell_type": "code",
   "execution_count": null,
   "id": "4e6da9de",
   "metadata": {},
   "outputs": [],
   "source": []
  }
 ],
 "metadata": {
  "kernelspec": {
   "display_name": "Python 3 (ipykernel)",
   "language": "python",
   "name": "python3"
  },
  "language_info": {
   "codemirror_mode": {
    "name": "ipython",
    "version": 3
   },
   "file_extension": ".py",
   "mimetype": "text/x-python",
   "name": "python",
   "nbconvert_exporter": "python",
   "pygments_lexer": "ipython3",
   "version": "3.9.13"
  }
 },
 "nbformat": 4,
 "nbformat_minor": 5
}
